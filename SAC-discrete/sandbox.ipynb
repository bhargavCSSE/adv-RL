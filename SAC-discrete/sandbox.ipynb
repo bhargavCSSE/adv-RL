{
 "metadata": {
  "language_info": {
   "codemirror_mode": {
    "name": "ipython",
    "version": 3
   },
   "file_extension": ".py",
   "mimetype": "text/x-python",
   "name": "python",
   "nbconvert_exporter": "python",
   "pygments_lexer": "ipython3",
   "version": "3.8.5-final"
  },
  "orig_nbformat": 2,
  "kernelspec": {
   "name": "python38564bitadvrlcondad13d007c6fd048ecafabc193854f236c",
   "display_name": "Python 3.8.5 64-bit"
  },
  "metadata": {
   "interpreter": {
    "hash": "b04c762743c4db6cbd0c4739bffb1ee3af58d7153c65b9ff46f9c8758f2d6733"
   }
  }
 },
 "nbformat": 4,
 "nbformat_minor": 2,
 "cells": [
  {
   "cell_type": "code",
   "execution_count": 112,
   "metadata": {},
   "outputs": [],
   "source": [
    "import os\n",
    "import torch as T\n",
    "import torch.nn as nn\n",
    "import torch.nn.functional as F\n",
    "from torch.nn.modules.activation import Softmax\n",
    "import torch.optim as optim\n",
    "from torch.distributions.categorical import Categorical\n",
    "import numpy as np\n",
    "import pandas as pd\n",
    "import pickle\n",
    "import gym"
   ]
  },
  {
   "cell_type": "code",
   "execution_count": 113,
   "metadata": {},
   "outputs": [],
   "source": [
    "with open('plots/Training-data-primary.pkl', 'rb') as f:\n",
    "    data = pickle.load(f)"
   ]
  },
  {
   "cell_type": "code",
   "execution_count": 114,
   "metadata": {},
   "outputs": [],
   "source": [
    "output_file = 'data/Primary-model/SACD-LunarLander500x10-rewards-train.csv'\n",
    "write_dict = {}\n",
    "\n",
    "params = {\"score\":0, \n",
    "        \"rolling_score\":1,\n",
    "        \"eps\":2,\n",
    "        \"something\": 3,\n",
    "        \"total_time\": 4}\n",
    "\n",
    "score = np.array(data['SAC'][trial_num - 1][params[\"score\"]])\n",
    "\n",
    "trials = 5\n",
    "for trial in range(trials):\n",
    "    write_dict[trial] = np.array(data['SAC'][trial][params[\"score\"]])\n",
    "\n",
    "pd.DataFrame(write_dict).to_csv(output_file)"
   ]
  },
  {
   "cell_type": "code",
   "execution_count": null,
   "metadata": {},
   "outputs": [],
   "source": []
  }
 ]
}